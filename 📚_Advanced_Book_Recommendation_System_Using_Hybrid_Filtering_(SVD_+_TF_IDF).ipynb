{
  "cells": [
    {
      "cell_type": "markdown",
      "metadata": {
        "id": "view-in-github",
        "colab_type": "text"
      },
      "source": [
        "<a href=\"https://colab.research.google.com/github/NelsonKamau/-Advanced-Book-Recommendation-System-Using-Hybrid-Filtering-SVD-TF-IDF-/blob/main/%F0%9F%93%9A_Advanced_Book_Recommendation_System_Using_Hybrid_Filtering_(SVD_%2B_TF_IDF).ipynb\" target=\"_parent\"><img src=\"https://colab.research.google.com/assets/colab-badge.svg\" alt=\"Open In Colab\"/></a>"
      ]
    },
    {
      "cell_type": "markdown",
      "metadata": {
        "id": "d2addfe9"
      },
      "source": [
        "### ⚙️ Code Execution\n",
        "This block performs an intermediate step in the pipeline."
      ]
    },
    {
      "cell_type": "code",
      "execution_count": null,
      "metadata": {
        "colab": {
          "base_uri": "https://localhost:8080/"
        },
        "id": "ieDMeUPT25uT",
        "outputId": "d16c7799-94d8-490d-b980-9ff0ebef9939"
      },
      "outputs": [
        {
          "name": "stdout",
          "output_type": "stream",
          "text": [
            "Requirement already satisfied: scikit-surprise in /usr/local/lib/python3.11/dist-packages (1.1.4)\n",
            "Requirement already satisfied: joblib>=1.2.0 in /usr/local/lib/python3.11/dist-packages (from scikit-surprise) (1.5.1)\n",
            "Requirement already satisfied: numpy>=1.19.5 in /usr/local/lib/python3.11/dist-packages (from scikit-surprise) (1.24.4)\n",
            "Requirement already satisfied: scipy>=1.6.0 in /usr/local/lib/python3.11/dist-packages (from scikit-surprise) (1.15.3)\n"
          ]
        }
      ],
      "source": [
        "!pip install scikit-surprise"
      ]
    },
    {
      "cell_type": "markdown",
      "metadata": {
        "id": "SPLFxNWxz7t7"
      },
      "source": [
        "\n",
        "---\n",
        "\n",
        "\n",
        "\n",
        "# **📘 Advanced Book Recommendation System using Book-Crossing Dataset**"
      ]
    },
    {
      "cell_type": "markdown",
      "metadata": {
        "id": "f8x1LRd7eETw"
      },
      "source": [
        "\n",
        "\n",
        "\n",
        "\n",
        "\n",
        "---\n",
        "\n",
        "\n",
        "\n",
        "## **🧾 Introduction**\n",
        "\n",
        "This notebook builds a multi-model book recommendation system using the Book-Crossing dataset. We will implement and compare the following models:\n",
        "\n",
        "\n",
        "*   User-Based Collaborative Filtering\n",
        "*   Item-Based Collaborative Filtering\n",
        "*   Matrix Factorization (SVD)\n",
        "*   Content-Based Filtering\n",
        "*   Hybrid Model\n",
        "\n",
        "Each step includes clean explanations and code using `pandas`, `scikit-learn`, and `surprise`.\n",
        "\n",
        "\n",
        "\n",
        "---\n",
        "\n",
        "## **📦 Step 1: Load and Clean the Data**\n",
        "\n",
        "**Explanation:**\n",
        "\n",
        "The dataset includes three files:\n",
        "\n",
        "*   `Users.csv`: user information.\n",
        "*   `Books.csv`: metadata about books.\n",
        "*   `Ratings.csv`: user ratings on books.\n",
        "\n",
        "\n",
        "We filter out implicit ratings (Book-Rating == 0) and drop users and books with very few interactions.\n",
        "\n"
      ]
    },
    {
      "cell_type": "markdown",
      "metadata": {
        "id": "7caa70b1"
      },
      "source": [
        "### 📦 Import Libraries\n",
        "This cell imports core libraries needed for data loading and analysis. Notably, `pandas` is used for structured data handling."
      ]
    },
    {
      "cell_type": "code",
      "execution_count": null,
      "metadata": {
        "id": "M50cK3xpbgZM"
      },
      "outputs": [],
      "source": [
        "import pandas as pd\n",
        "\n",
        "# Correct loading with comma delimiter\n",
        "users = pd.read_csv(\"Users.csv\", sep=\",\", encoding=\"latin-1\", low_memory=False)\n",
        "books = pd.read_csv(\"Books.csv\", sep=\",\", encoding=\"latin-1\", low_memory=False)\n",
        "ratings = pd.read_csv(\"Ratings.csv\", sep=\",\", encoding=\"latin-1\", low_memory=False)"
      ]
    },
    {
      "cell_type": "markdown",
      "metadata": {
        "id": "888fb45b"
      },
      "source": [
        "### ⚙️ Code Execution\n",
        "This block performs an intermediate step in the pipeline."
      ]
    },
    {
      "cell_type": "code",
      "execution_count": null,
      "metadata": {
        "colab": {
          "base_uri": "https://localhost:8080/"
        },
        "id": "nioKKkO5gB1E",
        "outputId": "6a920e31-50e7-4b9f-a714-ca7f26892e9b"
      },
      "outputs": [
        {
          "name": "stdout",
          "output_type": "stream",
          "text": [
            "Users: Index(['User-ID', 'Location', 'Age'], dtype='object')\n",
            "Books: Index(['ISBN', 'Book-Title', 'Book-Author', 'Year-Of-Publication', 'Publisher',\n",
            "       'Image-URL-S', 'Image-URL-M', 'Image-URL-L'],\n",
            "      dtype='object')\n",
            "Ratings: Index(['User-ID', 'ISBN', 'Book-Rating'], dtype='object')\n"
          ]
        }
      ],
      "source": [
        "# Show confirmation\n",
        "print(\"Users:\", users.columns)\n",
        "print(\"Books:\", books.columns)\n",
        "print(\"Ratings:\", ratings.columns)"
      ]
    },
    {
      "cell_type": "markdown",
      "metadata": {
        "id": "c375a807"
      },
      "source": [
        "### ⚙️ Code Execution\n",
        "This block performs an intermediate step in the pipeline."
      ]
    },
    {
      "cell_type": "code",
      "execution_count": null,
      "metadata": {
        "colab": {
          "base_uri": "https://localhost:8080/",
          "height": 241
        },
        "id": "PpTwjZchgDhV",
        "outputId": "996aac92-2b66-4cb6-a989-def040686e4f"
      },
      "outputs": [
        {
          "name": "stdout",
          "output_type": "stream",
          "text": [
            "\n",
            "Users sample:\n"
          ]
        },
        {
          "data": {
            "application/vnd.google.colaboratory.intrinsic+json": {
              "type": "dataframe",
              "variable_name": "users"
            },
            "text/html": [
              "\n",
              "  <div id=\"df-d3dcb6b7-d1b3-4e40-ad5f-45f411892392\" class=\"colab-df-container\">\n",
              "    <div>\n",
              "<style scoped>\n",
              "    .dataframe tbody tr th:only-of-type {\n",
              "        vertical-align: middle;\n",
              "    }\n",
              "\n",
              "    .dataframe tbody tr th {\n",
              "        vertical-align: top;\n",
              "    }\n",
              "\n",
              "    .dataframe thead th {\n",
              "        text-align: right;\n",
              "    }\n",
              "</style>\n",
              "<table border=\"1\" class=\"dataframe\">\n",
              "  <thead>\n",
              "    <tr style=\"text-align: right;\">\n",
              "      <th></th>\n",
              "      <th>User-ID</th>\n",
              "      <th>Location</th>\n",
              "      <th>Age</th>\n",
              "    </tr>\n",
              "  </thead>\n",
              "  <tbody>\n",
              "    <tr>\n",
              "      <th>0</th>\n",
              "      <td>1</td>\n",
              "      <td>nyc, new york, usa</td>\n",
              "      <td>NaN</td>\n",
              "    </tr>\n",
              "    <tr>\n",
              "      <th>1</th>\n",
              "      <td>2</td>\n",
              "      <td>stockton, california, usa</td>\n",
              "      <td>18.0</td>\n",
              "    </tr>\n",
              "    <tr>\n",
              "      <th>2</th>\n",
              "      <td>3</td>\n",
              "      <td>moscow, yukon territory, russia</td>\n",
              "      <td>NaN</td>\n",
              "    </tr>\n",
              "    <tr>\n",
              "      <th>3</th>\n",
              "      <td>4</td>\n",
              "      <td>porto, v.n.gaia, portugal</td>\n",
              "      <td>17.0</td>\n",
              "    </tr>\n",
              "    <tr>\n",
              "      <th>4</th>\n",
              "      <td>5</td>\n",
              "      <td>farnborough, hants, united kingdom</td>\n",
              "      <td>NaN</td>\n",
              "    </tr>\n",
              "  </tbody>\n",
              "</table>\n",
              "</div>\n",
              "    <div class=\"colab-df-buttons\">\n",
              "\n",
              "  <div class=\"colab-df-container\">\n",
              "    <button class=\"colab-df-convert\" onclick=\"convertToInteractive('df-d3dcb6b7-d1b3-4e40-ad5f-45f411892392')\"\n",
              "            title=\"Convert this dataframe to an interactive table.\"\n",
              "            style=\"display:none;\">\n",
              "\n",
              "  <svg xmlns=\"http://www.w3.org/2000/svg\" height=\"24px\" viewBox=\"0 -960 960 960\">\n",
              "    <path d=\"M120-120v-720h720v720H120Zm60-500h600v-160H180v160Zm220 220h160v-160H400v160Zm0 220h160v-160H400v160ZM180-400h160v-160H180v160Zm440 0h160v-160H620v160ZM180-180h160v-160H180v160Zm440 0h160v-160H620v160Z\"/>\n",
              "  </svg>\n",
              "    </button>\n",
              "\n",
              "  <style>\n",
              "    .colab-df-container {\n",
              "      display:flex;\n",
              "      gap: 12px;\n",
              "    }\n",
              "\n",
              "    .colab-df-convert {\n",
              "      background-color: #E8F0FE;\n",
              "      border: none;\n",
              "      border-radius: 50%;\n",
              "      cursor: pointer;\n",
              "      display: none;\n",
              "      fill: #1967D2;\n",
              "      height: 32px;\n",
              "      padding: 0 0 0 0;\n",
              "      width: 32px;\n",
              "    }\n",
              "\n",
              "    .colab-df-convert:hover {\n",
              "      background-color: #E2EBFA;\n",
              "      box-shadow: 0px 1px 2px rgba(60, 64, 67, 0.3), 0px 1px 3px 1px rgba(60, 64, 67, 0.15);\n",
              "      fill: #174EA6;\n",
              "    }\n",
              "\n",
              "    .colab-df-buttons div {\n",
              "      margin-bottom: 4px;\n",
              "    }\n",
              "\n",
              "    [theme=dark] .colab-df-convert {\n",
              "      background-color: #3B4455;\n",
              "      fill: #D2E3FC;\n",
              "    }\n",
              "\n",
              "    [theme=dark] .colab-df-convert:hover {\n",
              "      background-color: #434B5C;\n",
              "      box-shadow: 0px 1px 3px 1px rgba(0, 0, 0, 0.15);\n",
              "      filter: drop-shadow(0px 1px 2px rgba(0, 0, 0, 0.3));\n",
              "      fill: #FFFFFF;\n",
              "    }\n",
              "  </style>\n",
              "\n",
              "    <script>\n",
              "      const buttonEl =\n",
              "        document.querySelector('#df-d3dcb6b7-d1b3-4e40-ad5f-45f411892392 button.colab-df-convert');\n",
              "      buttonEl.style.display =\n",
              "        google.colab.kernel.accessAllowed ? 'block' : 'none';\n",
              "\n",
              "      async function convertToInteractive(key) {\n",
              "        const element = document.querySelector('#df-d3dcb6b7-d1b3-4e40-ad5f-45f411892392');\n",
              "        const dataTable =\n",
              "          await google.colab.kernel.invokeFunction('convertToInteractive',\n",
              "                                                    [key], {});\n",
              "        if (!dataTable) return;\n",
              "\n",
              "        const docLinkHtml = 'Like what you see? Visit the ' +\n",
              "          '<a target=\"_blank\" href=https://colab.research.google.com/notebooks/data_table.ipynb>data table notebook</a>'\n",
              "          + ' to learn more about interactive tables.';\n",
              "        element.innerHTML = '';\n",
              "        dataTable['output_type'] = 'display_data';\n",
              "        await google.colab.output.renderOutput(dataTable, element);\n",
              "        const docLink = document.createElement('div');\n",
              "        docLink.innerHTML = docLinkHtml;\n",
              "        element.appendChild(docLink);\n",
              "      }\n",
              "    </script>\n",
              "  </div>\n",
              "\n",
              "\n",
              "    <div id=\"df-332fb42e-de31-45a1-a53c-5e80e476eab8\">\n",
              "      <button class=\"colab-df-quickchart\" onclick=\"quickchart('df-332fb42e-de31-45a1-a53c-5e80e476eab8')\"\n",
              "                title=\"Suggest charts\"\n",
              "                style=\"display:none;\">\n",
              "\n",
              "<svg xmlns=\"http://www.w3.org/2000/svg\" height=\"24px\"viewBox=\"0 0 24 24\"\n",
              "     width=\"24px\">\n",
              "    <g>\n",
              "        <path d=\"M19 3H5c-1.1 0-2 .9-2 2v14c0 1.1.9 2 2 2h14c1.1 0 2-.9 2-2V5c0-1.1-.9-2-2-2zM9 17H7v-7h2v7zm4 0h-2V7h2v10zm4 0h-2v-4h2v4z\"/>\n",
              "    </g>\n",
              "</svg>\n",
              "      </button>\n",
              "\n",
              "<style>\n",
              "  .colab-df-quickchart {\n",
              "      --bg-color: #E8F0FE;\n",
              "      --fill-color: #1967D2;\n",
              "      --hover-bg-color: #E2EBFA;\n",
              "      --hover-fill-color: #174EA6;\n",
              "      --disabled-fill-color: #AAA;\n",
              "      --disabled-bg-color: #DDD;\n",
              "  }\n",
              "\n",
              "  [theme=dark] .colab-df-quickchart {\n",
              "      --bg-color: #3B4455;\n",
              "      --fill-color: #D2E3FC;\n",
              "      --hover-bg-color: #434B5C;\n",
              "      --hover-fill-color: #FFFFFF;\n",
              "      --disabled-bg-color: #3B4455;\n",
              "      --disabled-fill-color: #666;\n",
              "  }\n",
              "\n",
              "  .colab-df-quickchart {\n",
              "    background-color: var(--bg-color);\n",
              "    border: none;\n",
              "    border-radius: 50%;\n",
              "    cursor: pointer;\n",
              "    display: none;\n",
              "    fill: var(--fill-color);\n",
              "    height: 32px;\n",
              "    padding: 0;\n",
              "    width: 32px;\n",
              "  }\n",
              "\n",
              "  .colab-df-quickchart:hover {\n",
              "    background-color: var(--hover-bg-color);\n",
              "    box-shadow: 0 1px 2px rgba(60, 64, 67, 0.3), 0 1px 3px 1px rgba(60, 64, 67, 0.15);\n",
              "    fill: var(--button-hover-fill-color);\n",
              "  }\n",
              "\n",
              "  .colab-df-quickchart-complete:disabled,\n",
              "  .colab-df-quickchart-complete:disabled:hover {\n",
              "    background-color: var(--disabled-bg-color);\n",
              "    fill: var(--disabled-fill-color);\n",
              "    box-shadow: none;\n",
              "  }\n",
              "\n",
              "  .colab-df-spinner {\n",
              "    border: 2px solid var(--fill-color);\n",
              "    border-color: transparent;\n",
              "    border-bottom-color: var(--fill-color);\n",
              "    animation:\n",
              "      spin 1s steps(1) infinite;\n",
              "  }\n",
              "\n",
              "  @keyframes spin {\n",
              "    0% {\n",
              "      border-color: transparent;\n",
              "      border-bottom-color: var(--fill-color);\n",
              "      border-left-color: var(--fill-color);\n",
              "    }\n",
              "    20% {\n",
              "      border-color: transparent;\n",
              "      border-left-color: var(--fill-color);\n",
              "      border-top-color: var(--fill-color);\n",
              "    }\n",
              "    30% {\n",
              "      border-color: transparent;\n",
              "      border-left-color: var(--fill-color);\n",
              "      border-top-color: var(--fill-color);\n",
              "      border-right-color: var(--fill-color);\n",
              "    }\n",
              "    40% {\n",
              "      border-color: transparent;\n",
              "      border-right-color: var(--fill-color);\n",
              "      border-top-color: var(--fill-color);\n",
              "    }\n",
              "    60% {\n",
              "      border-color: transparent;\n",
              "      border-right-color: var(--fill-color);\n",
              "    }\n",
              "    80% {\n",
              "      border-color: transparent;\n",
              "      border-right-color: var(--fill-color);\n",
              "      border-bottom-color: var(--fill-color);\n",
              "    }\n",
              "    90% {\n",
              "      border-color: transparent;\n",
              "      border-bottom-color: var(--fill-color);\n",
              "    }\n",
              "  }\n",
              "</style>\n",
              "\n",
              "      <script>\n",
              "        async function quickchart(key) {\n",
              "          const quickchartButtonEl =\n",
              "            document.querySelector('#' + key + ' button');\n",
              "          quickchartButtonEl.disabled = true;  // To prevent multiple clicks.\n",
              "          quickchartButtonEl.classList.add('colab-df-spinner');\n",
              "          try {\n",
              "            const charts = await google.colab.kernel.invokeFunction(\n",
              "                'suggestCharts', [key], {});\n",
              "          } catch (error) {\n",
              "            console.error('Error during call to suggestCharts:', error);\n",
              "          }\n",
              "          quickchartButtonEl.classList.remove('colab-df-spinner');\n",
              "          quickchartButtonEl.classList.add('colab-df-quickchart-complete');\n",
              "        }\n",
              "        (() => {\n",
              "          let quickchartButtonEl =\n",
              "            document.querySelector('#df-332fb42e-de31-45a1-a53c-5e80e476eab8 button');\n",
              "          quickchartButtonEl.style.display =\n",
              "            google.colab.kernel.accessAllowed ? 'block' : 'none';\n",
              "        })();\n",
              "      </script>\n",
              "    </div>\n",
              "\n",
              "    </div>\n",
              "  </div>\n"
            ],
            "text/plain": [
              "   User-ID                            Location   Age\n",
              "0        1                  nyc, new york, usa   NaN\n",
              "1        2           stockton, california, usa  18.0\n",
              "2        3     moscow, yukon territory, russia   NaN\n",
              "3        4           porto, v.n.gaia, portugal  17.0\n",
              "4        5  farnborough, hants, united kingdom   NaN"
            ]
          },
          "execution_count": 4,
          "metadata": {},
          "output_type": "execute_result"
        }
      ],
      "source": [
        "# View first few rows\n",
        "print(\"\\nUsers sample:\")\n",
        "users.head()"
      ]
    },
    {
      "cell_type": "markdown",
      "metadata": {
        "id": "a669de24"
      },
      "source": [
        "### ⚙️ Code Execution\n",
        "This block performs an intermediate step in the pipeline."
      ]
    },
    {
      "cell_type": "code",
      "execution_count": null,
      "metadata": {
        "colab": {
          "base_uri": "https://localhost:8080/",
          "height": 311
        },
        "id": "iiSPTijLgGNQ",
        "outputId": "7c0934a5-d808-4b86-9dff-2cf2f0f5aada"
      },
      "outputs": [
        {
          "name": "stdout",
          "output_type": "stream",
          "text": [
            "\n",
            "Books sample:\n"
          ]
        },
        {
          "data": {
            "application/vnd.google.colaboratory.intrinsic+json": {
              "type": "dataframe",
              "variable_name": "books"
            },
            "text/html": [
              "\n",
              "  <div id=\"df-741bd800-f67d-4782-ae4f-9240f9f5b504\" class=\"colab-df-container\">\n",
              "    <div>\n",
              "<style scoped>\n",
              "    .dataframe tbody tr th:only-of-type {\n",
              "        vertical-align: middle;\n",
              "    }\n",
              "\n",
              "    .dataframe tbody tr th {\n",
              "        vertical-align: top;\n",
              "    }\n",
              "\n",
              "    .dataframe thead th {\n",
              "        text-align: right;\n",
              "    }\n",
              "</style>\n",
              "<table border=\"1\" class=\"dataframe\">\n",
              "  <thead>\n",
              "    <tr style=\"text-align: right;\">\n",
              "      <th></th>\n",
              "      <th>ISBN</th>\n",
              "      <th>Book-Title</th>\n",
              "      <th>Book-Author</th>\n",
              "      <th>Year-Of-Publication</th>\n",
              "      <th>Publisher</th>\n",
              "      <th>Image-URL-S</th>\n",
              "      <th>Image-URL-M</th>\n",
              "      <th>Image-URL-L</th>\n",
              "    </tr>\n",
              "  </thead>\n",
              "  <tbody>\n",
              "    <tr>\n",
              "      <th>0</th>\n",
              "      <td>0195153448</td>\n",
              "      <td>Classical Mythology</td>\n",
              "      <td>Mark P. O. Morford</td>\n",
              "      <td>2002</td>\n",
              "      <td>Oxford University Press</td>\n",
              "      <td>http://images.amazon.com/images/P/0195153448.0...</td>\n",
              "      <td>http://images.amazon.com/images/P/0195153448.0...</td>\n",
              "      <td>http://images.amazon.com/images/P/0195153448.0...</td>\n",
              "    </tr>\n",
              "    <tr>\n",
              "      <th>1</th>\n",
              "      <td>0002005018</td>\n",
              "      <td>Clara Callan</td>\n",
              "      <td>Richard Bruce Wright</td>\n",
              "      <td>2001</td>\n",
              "      <td>HarperFlamingo Canada</td>\n",
              "      <td>http://images.amazon.com/images/P/0002005018.0...</td>\n",
              "      <td>http://images.amazon.com/images/P/0002005018.0...</td>\n",
              "      <td>http://images.amazon.com/images/P/0002005018.0...</td>\n",
              "    </tr>\n",
              "    <tr>\n",
              "      <th>2</th>\n",
              "      <td>0060973129</td>\n",
              "      <td>Decision in Normandy</td>\n",
              "      <td>Carlo D'Este</td>\n",
              "      <td>1991</td>\n",
              "      <td>HarperPerennial</td>\n",
              "      <td>http://images.amazon.com/images/P/0060973129.0...</td>\n",
              "      <td>http://images.amazon.com/images/P/0060973129.0...</td>\n",
              "      <td>http://images.amazon.com/images/P/0060973129.0...</td>\n",
              "    </tr>\n",
              "    <tr>\n",
              "      <th>3</th>\n",
              "      <td>0374157065</td>\n",
              "      <td>Flu: The Story of the Great Influenza Pandemic...</td>\n",
              "      <td>Gina Bari Kolata</td>\n",
              "      <td>1999</td>\n",
              "      <td>Farrar Straus Giroux</td>\n",
              "      <td>http://images.amazon.com/images/P/0374157065.0...</td>\n",
              "      <td>http://images.amazon.com/images/P/0374157065.0...</td>\n",
              "      <td>http://images.amazon.com/images/P/0374157065.0...</td>\n",
              "    </tr>\n",
              "    <tr>\n",
              "      <th>4</th>\n",
              "      <td>0393045218</td>\n",
              "      <td>The Mummies of Urumchi</td>\n",
              "      <td>E. J. W. Barber</td>\n",
              "      <td>1999</td>\n",
              "      <td>W. W. Norton &amp;amp; Company</td>\n",
              "      <td>http://images.amazon.com/images/P/0393045218.0...</td>\n",
              "      <td>http://images.amazon.com/images/P/0393045218.0...</td>\n",
              "      <td>http://images.amazon.com/images/P/0393045218.0...</td>\n",
              "    </tr>\n",
              "  </tbody>\n",
              "</table>\n",
              "</div>\n",
              "    <div class=\"colab-df-buttons\">\n",
              "\n",
              "  <div class=\"colab-df-container\">\n",
              "    <button class=\"colab-df-convert\" onclick=\"convertToInteractive('df-741bd800-f67d-4782-ae4f-9240f9f5b504')\"\n",
              "            title=\"Convert this dataframe to an interactive table.\"\n",
              "            style=\"display:none;\">\n",
              "\n",
              "  <svg xmlns=\"http://www.w3.org/2000/svg\" height=\"24px\" viewBox=\"0 -960 960 960\">\n",
              "    <path d=\"M120-120v-720h720v720H120Zm60-500h600v-160H180v160Zm220 220h160v-160H400v160Zm0 220h160v-160H400v160ZM180-400h160v-160H180v160Zm440 0h160v-160H620v160ZM180-180h160v-160H180v160Zm440 0h160v-160H620v160Z\"/>\n",
              "  </svg>\n",
              "    </button>\n",
              "\n",
              "  <style>\n",
              "    .colab-df-container {\n",
              "      display:flex;\n",
              "      gap: 12px;\n",
              "    }\n",
              "\n",
              "    .colab-df-convert {\n",
              "      background-color: #E8F0FE;\n",
              "      border: none;\n",
              "      border-radius: 50%;\n",
              "      cursor: pointer;\n",
              "      display: none;\n",
              "      fill: #1967D2;\n",
              "      height: 32px;\n",
              "      padding: 0 0 0 0;\n",
              "      width: 32px;\n",
              "    }\n",
              "\n",
              "    .colab-df-convert:hover {\n",
              "      background-color: #E2EBFA;\n",
              "      box-shadow: 0px 1px 2px rgba(60, 64, 67, 0.3), 0px 1px 3px 1px rgba(60, 64, 67, 0.15);\n",
              "      fill: #174EA6;\n",
              "    }\n",
              "\n",
              "    .colab-df-buttons div {\n",
              "      margin-bottom: 4px;\n",
              "    }\n",
              "\n",
              "    [theme=dark] .colab-df-convert {\n",
              "      background-color: #3B4455;\n",
              "      fill: #D2E3FC;\n",
              "    }\n",
              "\n",
              "    [theme=dark] .colab-df-convert:hover {\n",
              "      background-color: #434B5C;\n",
              "      box-shadow: 0px 1px 3px 1px rgba(0, 0, 0, 0.15);\n",
              "      filter: drop-shadow(0px 1px 2px rgba(0, 0, 0, 0.3));\n",
              "      fill: #FFFFFF;\n",
              "    }\n",
              "  </style>\n",
              "\n",
              "    <script>\n",
              "      const buttonEl =\n",
              "        document.querySelector('#df-741bd800-f67d-4782-ae4f-9240f9f5b504 button.colab-df-convert');\n",
              "      buttonEl.style.display =\n",
              "        google.colab.kernel.accessAllowed ? 'block' : 'none';\n",
              "\n",
              "      async function convertToInteractive(key) {\n",
              "        const element = document.querySelector('#df-741bd800-f67d-4782-ae4f-9240f9f5b504');\n",
              "        const dataTable =\n",
              "          await google.colab.kernel.invokeFunction('convertToInteractive',\n",
              "                                                    [key], {});\n",
              "        if (!dataTable) return;\n",
              "\n",
              "        const docLinkHtml = 'Like what you see? Visit the ' +\n",
              "          '<a target=\"_blank\" href=https://colab.research.google.com/notebooks/data_table.ipynb>data table notebook</a>'\n",
              "          + ' to learn more about interactive tables.';\n",
              "        element.innerHTML = '';\n",
              "        dataTable['output_type'] = 'display_data';\n",
              "        await google.colab.output.renderOutput(dataTable, element);\n",
              "        const docLink = document.createElement('div');\n",
              "        docLink.innerHTML = docLinkHtml;\n",
              "        element.appendChild(docLink);\n",
              "      }\n",
              "    </script>\n",
              "  </div>\n",
              "\n",
              "\n",
              "    <div id=\"df-a6f5ee2c-954e-4ebf-9c46-ceb7182bf1c5\">\n",
              "      <button class=\"colab-df-quickchart\" onclick=\"quickchart('df-a6f5ee2c-954e-4ebf-9c46-ceb7182bf1c5')\"\n",
              "                title=\"Suggest charts\"\n",
              "                style=\"display:none;\">\n",
              "\n",
              "<svg xmlns=\"http://www.w3.org/2000/svg\" height=\"24px\"viewBox=\"0 0 24 24\"\n",
              "     width=\"24px\">\n",
              "    <g>\n",
              "        <path d=\"M19 3H5c-1.1 0-2 .9-2 2v14c0 1.1.9 2 2 2h14c1.1 0 2-.9 2-2V5c0-1.1-.9-2-2-2zM9 17H7v-7h2v7zm4 0h-2V7h2v10zm4 0h-2v-4h2v4z\"/>\n",
              "    </g>\n",
              "</svg>\n",
              "      </button>\n",
              "\n",
              "<style>\n",
              "  .colab-df-quickchart {\n",
              "      --bg-color: #E8F0FE;\n",
              "      --fill-color: #1967D2;\n",
              "      --hover-bg-color: #E2EBFA;\n",
              "      --hover-fill-color: #174EA6;\n",
              "      --disabled-fill-color: #AAA;\n",
              "      --disabled-bg-color: #DDD;\n",
              "  }\n",
              "\n",
              "  [theme=dark] .colab-df-quickchart {\n",
              "      --bg-color: #3B4455;\n",
              "      --fill-color: #D2E3FC;\n",
              "      --hover-bg-color: #434B5C;\n",
              "      --hover-fill-color: #FFFFFF;\n",
              "      --disabled-bg-color: #3B4455;\n",
              "      --disabled-fill-color: #666;\n",
              "  }\n",
              "\n",
              "  .colab-df-quickchart {\n",
              "    background-color: var(--bg-color);\n",
              "    border: none;\n",
              "    border-radius: 50%;\n",
              "    cursor: pointer;\n",
              "    display: none;\n",
              "    fill: var(--fill-color);\n",
              "    height: 32px;\n",
              "    padding: 0;\n",
              "    width: 32px;\n",
              "  }\n",
              "\n",
              "  .colab-df-quickchart:hover {\n",
              "    background-color: var(--hover-bg-color);\n",
              "    box-shadow: 0 1px 2px rgba(60, 64, 67, 0.3), 0 1px 3px 1px rgba(60, 64, 67, 0.15);\n",
              "    fill: var(--button-hover-fill-color);\n",
              "  }\n",
              "\n",
              "  .colab-df-quickchart-complete:disabled,\n",
              "  .colab-df-quickchart-complete:disabled:hover {\n",
              "    background-color: var(--disabled-bg-color);\n",
              "    fill: var(--disabled-fill-color);\n",
              "    box-shadow: none;\n",
              "  }\n",
              "\n",
              "  .colab-df-spinner {\n",
              "    border: 2px solid var(--fill-color);\n",
              "    border-color: transparent;\n",
              "    border-bottom-color: var(--fill-color);\n",
              "    animation:\n",
              "      spin 1s steps(1) infinite;\n",
              "  }\n",
              "\n",
              "  @keyframes spin {\n",
              "    0% {\n",
              "      border-color: transparent;\n",
              "      border-bottom-color: var(--fill-color);\n",
              "      border-left-color: var(--fill-color);\n",
              "    }\n",
              "    20% {\n",
              "      border-color: transparent;\n",
              "      border-left-color: var(--fill-color);\n",
              "      border-top-color: var(--fill-color);\n",
              "    }\n",
              "    30% {\n",
              "      border-color: transparent;\n",
              "      border-left-color: var(--fill-color);\n",
              "      border-top-color: var(--fill-color);\n",
              "      border-right-color: var(--fill-color);\n",
              "    }\n",
              "    40% {\n",
              "      border-color: transparent;\n",
              "      border-right-color: var(--fill-color);\n",
              "      border-top-color: var(--fill-color);\n",
              "    }\n",
              "    60% {\n",
              "      border-color: transparent;\n",
              "      border-right-color: var(--fill-color);\n",
              "    }\n",
              "    80% {\n",
              "      border-color: transparent;\n",
              "      border-right-color: var(--fill-color);\n",
              "      border-bottom-color: var(--fill-color);\n",
              "    }\n",
              "    90% {\n",
              "      border-color: transparent;\n",
              "      border-bottom-color: var(--fill-color);\n",
              "    }\n",
              "  }\n",
              "</style>\n",
              "\n",
              "      <script>\n",
              "        async function quickchart(key) {\n",
              "          const quickchartButtonEl =\n",
              "            document.querySelector('#' + key + ' button');\n",
              "          quickchartButtonEl.disabled = true;  // To prevent multiple clicks.\n",
              "          quickchartButtonEl.classList.add('colab-df-spinner');\n",
              "          try {\n",
              "            const charts = await google.colab.kernel.invokeFunction(\n",
              "                'suggestCharts', [key], {});\n",
              "          } catch (error) {\n",
              "            console.error('Error during call to suggestCharts:', error);\n",
              "          }\n",
              "          quickchartButtonEl.classList.remove('colab-df-spinner');\n",
              "          quickchartButtonEl.classList.add('colab-df-quickchart-complete');\n",
              "        }\n",
              "        (() => {\n",
              "          let quickchartButtonEl =\n",
              "            document.querySelector('#df-a6f5ee2c-954e-4ebf-9c46-ceb7182bf1c5 button');\n",
              "          quickchartButtonEl.style.display =\n",
              "            google.colab.kernel.accessAllowed ? 'block' : 'none';\n",
              "        })();\n",
              "      </script>\n",
              "    </div>\n",
              "\n",
              "    </div>\n",
              "  </div>\n"
            ],
            "text/plain": [
              "         ISBN                                         Book-Title  \\\n",
              "0  0195153448                                Classical Mythology   \n",
              "1  0002005018                                       Clara Callan   \n",
              "2  0060973129                               Decision in Normandy   \n",
              "3  0374157065  Flu: The Story of the Great Influenza Pandemic...   \n",
              "4  0393045218                             The Mummies of Urumchi   \n",
              "\n",
              "            Book-Author Year-Of-Publication                   Publisher  \\\n",
              "0    Mark P. O. Morford                2002     Oxford University Press   \n",
              "1  Richard Bruce Wright                2001       HarperFlamingo Canada   \n",
              "2          Carlo D'Este                1991             HarperPerennial   \n",
              "3      Gina Bari Kolata                1999        Farrar Straus Giroux   \n",
              "4       E. J. W. Barber                1999  W. W. Norton &amp; Company   \n",
              "\n",
              "                                         Image-URL-S  \\\n",
              "0  http://images.amazon.com/images/P/0195153448.0...   \n",
              "1  http://images.amazon.com/images/P/0002005018.0...   \n",
              "2  http://images.amazon.com/images/P/0060973129.0...   \n",
              "3  http://images.amazon.com/images/P/0374157065.0...   \n",
              "4  http://images.amazon.com/images/P/0393045218.0...   \n",
              "\n",
              "                                         Image-URL-M  \\\n",
              "0  http://images.amazon.com/images/P/0195153448.0...   \n",
              "1  http://images.amazon.com/images/P/0002005018.0...   \n",
              "2  http://images.amazon.com/images/P/0060973129.0...   \n",
              "3  http://images.amazon.com/images/P/0374157065.0...   \n",
              "4  http://images.amazon.com/images/P/0393045218.0...   \n",
              "\n",
              "                                         Image-URL-L  \n",
              "0  http://images.amazon.com/images/P/0195153448.0...  \n",
              "1  http://images.amazon.com/images/P/0002005018.0...  \n",
              "2  http://images.amazon.com/images/P/0060973129.0...  \n",
              "3  http://images.amazon.com/images/P/0374157065.0...  \n",
              "4  http://images.amazon.com/images/P/0393045218.0...  "
            ]
          },
          "execution_count": 5,
          "metadata": {},
          "output_type": "execute_result"
        }
      ],
      "source": [
        "print(\"\\nBooks sample:\")\n",
        "books.head()"
      ]
    },
    {
      "cell_type": "markdown",
      "metadata": {
        "id": "fa66fefb"
      },
      "source": [
        "### ⚙️ Code Execution\n",
        "This block performs an intermediate step in the pipeline."
      ]
    },
    {
      "cell_type": "code",
      "execution_count": null,
      "metadata": {
        "colab": {
          "base_uri": "https://localhost:8080/",
          "height": 241
        },
        "id": "L2geZ9E5gIvh",
        "outputId": "cda1f69d-58fa-4db9-d921-5ab1c41d07a6"
      },
      "outputs": [
        {
          "name": "stdout",
          "output_type": "stream",
          "text": [
            "\n",
            "Ratings sample:\n"
          ]
        },
        {
          "data": {
            "application/vnd.google.colaboratory.intrinsic+json": {
              "type": "dataframe",
              "variable_name": "ratings"
            },
            "text/html": [
              "\n",
              "  <div id=\"df-8ebce260-5621-401e-9fee-59dff229abdf\" class=\"colab-df-container\">\n",
              "    <div>\n",
              "<style scoped>\n",
              "    .dataframe tbody tr th:only-of-type {\n",
              "        vertical-align: middle;\n",
              "    }\n",
              "\n",
              "    .dataframe tbody tr th {\n",
              "        vertical-align: top;\n",
              "    }\n",
              "\n",
              "    .dataframe thead th {\n",
              "        text-align: right;\n",
              "    }\n",
              "</style>\n",
              "<table border=\"1\" class=\"dataframe\">\n",
              "  <thead>\n",
              "    <tr style=\"text-align: right;\">\n",
              "      <th></th>\n",
              "      <th>User-ID</th>\n",
              "      <th>ISBN</th>\n",
              "      <th>Book-Rating</th>\n",
              "    </tr>\n",
              "  </thead>\n",
              "  <tbody>\n",
              "    <tr>\n",
              "      <th>0</th>\n",
              "      <td>276725</td>\n",
              "      <td>034545104X</td>\n",
              "      <td>0</td>\n",
              "    </tr>\n",
              "    <tr>\n",
              "      <th>1</th>\n",
              "      <td>276726</td>\n",
              "      <td>0155061224</td>\n",
              "      <td>5</td>\n",
              "    </tr>\n",
              "    <tr>\n",
              "      <th>2</th>\n",
              "      <td>276727</td>\n",
              "      <td>0446520802</td>\n",
              "      <td>0</td>\n",
              "    </tr>\n",
              "    <tr>\n",
              "      <th>3</th>\n",
              "      <td>276729</td>\n",
              "      <td>052165615X</td>\n",
              "      <td>3</td>\n",
              "    </tr>\n",
              "    <tr>\n",
              "      <th>4</th>\n",
              "      <td>276729</td>\n",
              "      <td>0521795028</td>\n",
              "      <td>6</td>\n",
              "    </tr>\n",
              "  </tbody>\n",
              "</table>\n",
              "</div>\n",
              "    <div class=\"colab-df-buttons\">\n",
              "\n",
              "  <div class=\"colab-df-container\">\n",
              "    <button class=\"colab-df-convert\" onclick=\"convertToInteractive('df-8ebce260-5621-401e-9fee-59dff229abdf')\"\n",
              "            title=\"Convert this dataframe to an interactive table.\"\n",
              "            style=\"display:none;\">\n",
              "\n",
              "  <svg xmlns=\"http://www.w3.org/2000/svg\" height=\"24px\" viewBox=\"0 -960 960 960\">\n",
              "    <path d=\"M120-120v-720h720v720H120Zm60-500h600v-160H180v160Zm220 220h160v-160H400v160Zm0 220h160v-160H400v160ZM180-400h160v-160H180v160Zm440 0h160v-160H620v160ZM180-180h160v-160H180v160Zm440 0h160v-160H620v160Z\"/>\n",
              "  </svg>\n",
              "    </button>\n",
              "\n",
              "  <style>\n",
              "    .colab-df-container {\n",
              "      display:flex;\n",
              "      gap: 12px;\n",
              "    }\n",
              "\n",
              "    .colab-df-convert {\n",
              "      background-color: #E8F0FE;\n",
              "      border: none;\n",
              "      border-radius: 50%;\n",
              "      cursor: pointer;\n",
              "      display: none;\n",
              "      fill: #1967D2;\n",
              "      height: 32px;\n",
              "      padding: 0 0 0 0;\n",
              "      width: 32px;\n",
              "    }\n",
              "\n",
              "    .colab-df-convert:hover {\n",
              "      background-color: #E2EBFA;\n",
              "      box-shadow: 0px 1px 2px rgba(60, 64, 67, 0.3), 0px 1px 3px 1px rgba(60, 64, 67, 0.15);\n",
              "      fill: #174EA6;\n",
              "    }\n",
              "\n",
              "    .colab-df-buttons div {\n",
              "      margin-bottom: 4px;\n",
              "    }\n",
              "\n",
              "    [theme=dark] .colab-df-convert {\n",
              "      background-color: #3B4455;\n",
              "      fill: #D2E3FC;\n",
              "    }\n",
              "\n",
              "    [theme=dark] .colab-df-convert:hover {\n",
              "      background-color: #434B5C;\n",
              "      box-shadow: 0px 1px 3px 1px rgba(0, 0, 0, 0.15);\n",
              "      filter: drop-shadow(0px 1px 2px rgba(0, 0, 0, 0.3));\n",
              "      fill: #FFFFFF;\n",
              "    }\n",
              "  </style>\n",
              "\n",
              "    <script>\n",
              "      const buttonEl =\n",
              "        document.querySelector('#df-8ebce260-5621-401e-9fee-59dff229abdf button.colab-df-convert');\n",
              "      buttonEl.style.display =\n",
              "        google.colab.kernel.accessAllowed ? 'block' : 'none';\n",
              "\n",
              "      async function convertToInteractive(key) {\n",
              "        const element = document.querySelector('#df-8ebce260-5621-401e-9fee-59dff229abdf');\n",
              "        const dataTable =\n",
              "          await google.colab.kernel.invokeFunction('convertToInteractive',\n",
              "                                                    [key], {});\n",
              "        if (!dataTable) return;\n",
              "\n",
              "        const docLinkHtml = 'Like what you see? Visit the ' +\n",
              "          '<a target=\"_blank\" href=https://colab.research.google.com/notebooks/data_table.ipynb>data table notebook</a>'\n",
              "          + ' to learn more about interactive tables.';\n",
              "        element.innerHTML = '';\n",
              "        dataTable['output_type'] = 'display_data';\n",
              "        await google.colab.output.renderOutput(dataTable, element);\n",
              "        const docLink = document.createElement('div');\n",
              "        docLink.innerHTML = docLinkHtml;\n",
              "        element.appendChild(docLink);\n",
              "      }\n",
              "    </script>\n",
              "  </div>\n",
              "\n",
              "\n",
              "    <div id=\"df-052205c1-9c20-4b58-b0fa-2f3456428c7d\">\n",
              "      <button class=\"colab-df-quickchart\" onclick=\"quickchart('df-052205c1-9c20-4b58-b0fa-2f3456428c7d')\"\n",
              "                title=\"Suggest charts\"\n",
              "                style=\"display:none;\">\n",
              "\n",
              "<svg xmlns=\"http://www.w3.org/2000/svg\" height=\"24px\"viewBox=\"0 0 24 24\"\n",
              "     width=\"24px\">\n",
              "    <g>\n",
              "        <path d=\"M19 3H5c-1.1 0-2 .9-2 2v14c0 1.1.9 2 2 2h14c1.1 0 2-.9 2-2V5c0-1.1-.9-2-2-2zM9 17H7v-7h2v7zm4 0h-2V7h2v10zm4 0h-2v-4h2v4z\"/>\n",
              "    </g>\n",
              "</svg>\n",
              "      </button>\n",
              "\n",
              "<style>\n",
              "  .colab-df-quickchart {\n",
              "      --bg-color: #E8F0FE;\n",
              "      --fill-color: #1967D2;\n",
              "      --hover-bg-color: #E2EBFA;\n",
              "      --hover-fill-color: #174EA6;\n",
              "      --disabled-fill-color: #AAA;\n",
              "      --disabled-bg-color: #DDD;\n",
              "  }\n",
              "\n",
              "  [theme=dark] .colab-df-quickchart {\n",
              "      --bg-color: #3B4455;\n",
              "      --fill-color: #D2E3FC;\n",
              "      --hover-bg-color: #434B5C;\n",
              "      --hover-fill-color: #FFFFFF;\n",
              "      --disabled-bg-color: #3B4455;\n",
              "      --disabled-fill-color: #666;\n",
              "  }\n",
              "\n",
              "  .colab-df-quickchart {\n",
              "    background-color: var(--bg-color);\n",
              "    border: none;\n",
              "    border-radius: 50%;\n",
              "    cursor: pointer;\n",
              "    display: none;\n",
              "    fill: var(--fill-color);\n",
              "    height: 32px;\n",
              "    padding: 0;\n",
              "    width: 32px;\n",
              "  }\n",
              "\n",
              "  .colab-df-quickchart:hover {\n",
              "    background-color: var(--hover-bg-color);\n",
              "    box-shadow: 0 1px 2px rgba(60, 64, 67, 0.3), 0 1px 3px 1px rgba(60, 64, 67, 0.15);\n",
              "    fill: var(--button-hover-fill-color);\n",
              "  }\n",
              "\n",
              "  .colab-df-quickchart-complete:disabled,\n",
              "  .colab-df-quickchart-complete:disabled:hover {\n",
              "    background-color: var(--disabled-bg-color);\n",
              "    fill: var(--disabled-fill-color);\n",
              "    box-shadow: none;\n",
              "  }\n",
              "\n",
              "  .colab-df-spinner {\n",
              "    border: 2px solid var(--fill-color);\n",
              "    border-color: transparent;\n",
              "    border-bottom-color: var(--fill-color);\n",
              "    animation:\n",
              "      spin 1s steps(1) infinite;\n",
              "  }\n",
              "\n",
              "  @keyframes spin {\n",
              "    0% {\n",
              "      border-color: transparent;\n",
              "      border-bottom-color: var(--fill-color);\n",
              "      border-left-color: var(--fill-color);\n",
              "    }\n",
              "    20% {\n",
              "      border-color: transparent;\n",
              "      border-left-color: var(--fill-color);\n",
              "      border-top-color: var(--fill-color);\n",
              "    }\n",
              "    30% {\n",
              "      border-color: transparent;\n",
              "      border-left-color: var(--fill-color);\n",
              "      border-top-color: var(--fill-color);\n",
              "      border-right-color: var(--fill-color);\n",
              "    }\n",
              "    40% {\n",
              "      border-color: transparent;\n",
              "      border-right-color: var(--fill-color);\n",
              "      border-top-color: var(--fill-color);\n",
              "    }\n",
              "    60% {\n",
              "      border-color: transparent;\n",
              "      border-right-color: var(--fill-color);\n",
              "    }\n",
              "    80% {\n",
              "      border-color: transparent;\n",
              "      border-right-color: var(--fill-color);\n",
              "      border-bottom-color: var(--fill-color);\n",
              "    }\n",
              "    90% {\n",
              "      border-color: transparent;\n",
              "      border-bottom-color: var(--fill-color);\n",
              "    }\n",
              "  }\n",
              "</style>\n",
              "\n",
              "      <script>\n",
              "        async function quickchart(key) {\n",
              "          const quickchartButtonEl =\n",
              "            document.querySelector('#' + key + ' button');\n",
              "          quickchartButtonEl.disabled = true;  // To prevent multiple clicks.\n",
              "          quickchartButtonEl.classList.add('colab-df-spinner');\n",
              "          try {\n",
              "            const charts = await google.colab.kernel.invokeFunction(\n",
              "                'suggestCharts', [key], {});\n",
              "          } catch (error) {\n",
              "            console.error('Error during call to suggestCharts:', error);\n",
              "          }\n",
              "          quickchartButtonEl.classList.remove('colab-df-spinner');\n",
              "          quickchartButtonEl.classList.add('colab-df-quickchart-complete');\n",
              "        }\n",
              "        (() => {\n",
              "          let quickchartButtonEl =\n",
              "            document.querySelector('#df-052205c1-9c20-4b58-b0fa-2f3456428c7d button');\n",
              "          quickchartButtonEl.style.display =\n",
              "            google.colab.kernel.accessAllowed ? 'block' : 'none';\n",
              "        })();\n",
              "      </script>\n",
              "    </div>\n",
              "\n",
              "    </div>\n",
              "  </div>\n"
            ],
            "text/plain": [
              "   User-ID        ISBN  Book-Rating\n",
              "0   276725  034545104X            0\n",
              "1   276726  0155061224            5\n",
              "2   276727  0446520802            0\n",
              "3   276729  052165615X            3\n",
              "4   276729  0521795028            6"
            ]
          },
          "execution_count": 6,
          "metadata": {},
          "output_type": "execute_result"
        }
      ],
      "source": [
        "print(\"\\nRatings sample:\")\n",
        "ratings.head()"
      ]
    },
    {
      "cell_type": "markdown",
      "metadata": {
        "id": "28f088b9"
      },
      "source": [
        "### 📐 Dataset Shapes\n",
        "Shows the number of rows and columns in each dataset. Helps to confirm expected dimensions before merging or filtering."
      ]
    },
    {
      "cell_type": "code",
      "execution_count": null,
      "metadata": {
        "colab": {
          "base_uri": "https://localhost:8080/"
        },
        "id": "Gden2JcigKTU",
        "outputId": "34a5533e-1b9d-494e-e515-3327f2e69dce"
      },
      "outputs": [
        {
          "name": "stdout",
          "output_type": "stream",
          "text": [
            "\n",
            "Dataset sizes:\n",
            "Users: (278858, 3)\n",
            "Books: (271360, 8)\n",
            "Ratings: (1149780, 3)\n"
          ]
        }
      ],
      "source": [
        "# Dataset shapes\n",
        "print(\"\\nDataset sizes:\")\n",
        "print(\"Users:\", users.shape)\n",
        "print(\"Books:\", books.shape)\n",
        "print(\"Ratings:\", ratings.shape)"
      ]
    },
    {
      "cell_type": "markdown",
      "metadata": {
        "id": "AQnonCqeyyQG"
      },
      "source": [
        "\n",
        "\n",
        "---\n",
        "\n",
        "\n",
        "\n",
        "# **📦 Step 2: Clean the Data**"
      ]
    },
    {
      "cell_type": "markdown",
      "metadata": {
        "id": "645ba6de"
      },
      "source": [
        "### ⚙️ Code Execution\n",
        "This section prepares the ratings dataset for collaborative filtering by ensuring:\n",
        "\n",
        "*   Data is numeric and consistent\n",
        "\n",
        "*   Low-activity users and rare books are removed\n",
        "\n",
        "*   Only meaningful, explicit ratings are retained\n",
        "\n",
        "*   Ratings are enriched with book metadata\n"
      ]
    },
    {
      "cell_type": "code",
      "execution_count": null,
      "metadata": {
        "id": "iP5fdEcPy3Zy"
      },
      "outputs": [],
      "source": [
        "# Convert numeric fields\n",
        "users['Age'] = pd.to_numeric(users['Age'], errors='coerce')\n",
        "ratings['Book-Rating'] = pd.to_numeric(ratings['Book-Rating'], errors='coerce')\n",
        "\n",
        "# Drop rows with missing values in critical columns\n",
        "ratings.dropna(subset=['User-ID', 'ISBN', 'Book-Rating'], inplace=True)\n",
        "\n",
        "# Keep only explicit ratings (greater than 0)\n",
        "ratings = ratings[ratings['Book-Rating'] > 0]\n",
        "\n",
        "# Remove users with <10 ratings\n",
        "active_users = ratings['User-ID'].value_counts()\n",
        "ratings = ratings[ratings['User-ID'].isin(active_users[active_users >= 10].index)]\n",
        "\n",
        "# Remove books with <5 ratings\n",
        "popular_books = ratings['ISBN'].value_counts()\n",
        "ratings = ratings[ratings['ISBN'].isin(popular_books[popular_books >= 5].index)]\n",
        "\n",
        "# Merge ratings with book metadata\n",
        "ratings_books = pd.merge(ratings, books, on='ISBN', how='inner')\n"
      ]
    },
    {
      "cell_type": "markdown",
      "metadata": {
        "id": "Uwbnis2k1RYN"
      },
      "source": [
        "\n",
        "\n",
        "---\n",
        "\n",
        "\n",
        "\n",
        "# **📊 Step 3: Exploratory Data Analysis (EDA)**"
      ]
    },
    {
      "cell_type": "markdown",
      "metadata": {
        "id": "4970f461"
      },
      "source": [
        "This section provides a quick diagnostic of user feedback patterns and identifies dominant books in the dataset. These insights directly inform model selection and help anticipate biases in collaborative filtering."
      ]
    },
    {
      "cell_type": "code",
      "execution_count": null,
      "metadata": {
        "colab": {
          "base_uri": "https://localhost:8080/",
          "height": 698
        },
        "id": "uCrGK9zM1U-q",
        "outputId": "04acece0-e383-40a8-9e32-23267a4980fa"
      },
      "outputs": [
        {
          "data": {
            "image/png": "[encoded data removed]",
            "text/plain": [
              "<Figure size 640x480 with 1 Axes>"
            ]
          },
          "metadata": {},
          "output_type": "display_data"
        },
        {
          "name": "stdout",
          "output_type": "stream",
          "text": [
            "Top 10 Most Rated Books:\n",
            "Book-Title\n",
            "The Lovely Bones: A Novel                            337\n",
            "The Da Vinci Code                                    276\n",
            "Bridget Jones's Diary                                236\n",
            "The Secret Life of Bees                              234\n",
            "Harry Potter and the Chamber of Secrets (Book 2)     229\n",
            "The Nanny Diaries: A Novel                           205\n",
            "Life of Pi                                           202\n",
            "Harry Potter and the Prisoner of Azkaban (Book 3)    197\n",
            "The Red Tent (Bestselling Backlist)                  196\n",
            "Wild Animus                                          194\n",
            "Name: count, dtype: int64\n"
          ]
        }
      ],
      "source": [
        "import matplotlib.pyplot as plt\n",
        "\n",
        "# Plot rating distribution\n",
        "ratings['Book-Rating'].hist(bins=10)\n",
        "plt.title('Distribution of Book Ratings')\n",
        "plt.xlabel('Rating')\n",
        "plt.ylabel('Frequency')\n",
        "plt.show()\n",
        "\n",
        "# Most rated books\n",
        "top_books = ratings_books['Book-Title'].value_counts().head(10)\n",
        "print(\"Top 10 Most Rated Books:\")\n",
        "print(top_books)\n"
      ]
    },
    {
      "cell_type": "markdown",
      "metadata": {
        "id": "dno82_YO1lob"
      },
      "source": [
        "\n",
        "\n",
        "---\n",
        "\n",
        "\n",
        "\n",
        "# **🤝 Step 4: User-Based Collaborative Filtering**"
      ]
    },
    {
      "cell_type": "markdown",
      "metadata": {
        "id": "ec56063b"
      },
      "source": [
        "This section builds a user–item interaction matrix and applies cosine similarity to identify users with similar rating behavior. This is foundational for memory-based collaborative filtering."
      ]
    },
    {
      "cell_type": "code",
      "execution_count": null,
      "metadata": {
        "colab": {
          "base_uri": "https://localhost:8080/"
        },
        "id": "zaxBgaS91pMT",
        "outputId": "760c3ebc-c044-45f5-b076-b2cbe7299532"
      },
      "outputs": [
        {
          "name": "stdout",
          "output_type": "stream",
          "text": [
            "Top similar users to user 0: [5561  126 4335 5122 3321]\n"
          ]
        }
      ],
      "source": [
        "from sklearn.metrics.pairwise import cosine_similarity\n",
        "from scipy.sparse import csr_matrix\n",
        "\n",
        "# Create user-item matrix\n",
        "user_item_matrix = ratings.pivot(index='User-ID', columns='ISBN', values='Book-Rating').fillna(0)\n",
        "\n",
        "# Cosine similarity between users\n",
        "user_sparse = csr_matrix(user_item_matrix)\n",
        "user_similarity = cosine_similarity(user_sparse)\n",
        "\n",
        "# Example: similar users to first user\n",
        "similar_users = user_similarity[0].argsort()[::-1][1:6]\n",
        "print(\"Top similar users to user 0:\", similar_users)\n"
      ]
    },
    {
      "cell_type": "markdown",
      "metadata": {
        "id": "_sQHuQUq10dY"
      },
      "source": [
        "\n",
        "\n",
        "---\n",
        "\n",
        "\n",
        "# **📚 Step 5: Item-Based Collaborative Filtering**"
      ]
    },
    {
      "cell_type": "markdown",
      "metadata": {
        "id": "6ccb17fb"
      },
      "source": [
        "This section performs similarity computation between books (items) based on user rating patterns. Unlike user-based filtering, this method identifies items that are rated similarly by the same users, enabling item-to-item recommendations."
      ]
    },
    {
      "cell_type": "code",
      "execution_count": null,
      "metadata": {
        "colab": {
          "base_uri": "https://localhost:8080/"
        },
        "id": "XC2l4RgE13Kj",
        "outputId": "deec590c-6ce9-4332-9b51-c01adbe2d123"
      },
      "outputs": [
        {
          "name": "stdout",
          "output_type": "stream",
          "text": [
            "Top similar books to first ISBN: [8239 8240 1300 7342 4355]\n"
          ]
        }
      ],
      "source": [
        "# Transpose to item-user matrix\n",
        "item_user_matrix = user_item_matrix.T\n",
        "item_sparse = csr_matrix(item_user_matrix)\n",
        "item_similarity = cosine_similarity(item_sparse)\n",
        "\n",
        "# Example: similar books to first book\n",
        "similar_books = item_similarity[0].argsort()[::-1][1:6]\n",
        "print(\"Top similar books to first ISBN:\", similar_books)\n"
      ]
    },
    {
      "cell_type": "markdown",
      "metadata": {
        "id": "GHEWIOYE2AsL"
      },
      "source": [
        "\n",
        "\n",
        "---\n",
        "\n",
        "# **🧮 Step 6: Matrix Factorization (SVD)**"
      ]
    },
    {
      "cell_type": "markdown",
      "source": [
        "This section implements a model-based collaborative filtering approach using Singular Value Decomposition (SVD) via the Surprise library. Unlike memory-based methods, SVD captures latent user–item interactions, improving generalization in sparse data."
      ],
      "metadata": {
        "id": "BZQk0FB2J1QL"
      }
    },
    {
      "cell_type": "markdown",
      "metadata": {
        "id": "Cv3HCIgg37GQ"
      },
      "source": [
        "You need to downgrade NumPy to version < 2.0, which is fully compatible with surprise."
      ]
    },
    {
      "cell_type": "markdown",
      "metadata": {
        "id": "bf22930c"
      },
      "source": [
        "### ⚙️ Code Execution\n",
        "This block performs an intermediate step in the pipeline."
      ]
    },
    {
      "cell_type": "code",
      "execution_count": null,
      "metadata": {
        "colab": {
          "base_uri": "https://localhost:8080/"
        },
        "id": "xJJYN2SU33CE",
        "outputId": "d252fe0a-1c1e-4ba3-d256-3ca3f18c605c"
      },
      "outputs": [
        {
          "name": "stdout",
          "output_type": "stream",
          "text": [
            "Requirement already satisfied: numpy==1.24.4 in /usr/local/lib/python3.11/dist-packages (1.24.4)\n",
            "Requirement already satisfied: scikit-surprise in /usr/local/lib/python3.11/dist-packages (1.1.4)\n",
            "Requirement already satisfied: joblib>=1.2.0 in /usr/local/lib/python3.11/dist-packages (from scikit-surprise) (1.5.1)\n",
            "Requirement already satisfied: numpy>=1.19.5 in /usr/local/lib/python3.11/dist-packages (from scikit-surprise) (1.24.4)\n",
            "Requirement already satisfied: scipy>=1.6.0 in /usr/local/lib/python3.11/dist-packages (from scikit-surprise) (1.15.3)\n"
          ]
        }
      ],
      "source": [
        "!pip install numpy==1.24.4\n",
        "!pip install scikit-surprise --no-binary scikit-surprise"
      ]
    },
    {
      "cell_type": "code",
      "execution_count": null,
      "metadata": {
        "colab": {
          "base_uri": "https://localhost:8080/"
        },
        "id": "xrprvIqY2Abz",
        "outputId": "5cadf5b4-83f7-46f0-fd97-a9a637861b0d"
      },
      "outputs": [
        {
          "name": "stdout",
          "output_type": "stream",
          "text": [
            "SVD RMSE:\n",
            "RMSE: 1.5525\n"
          ]
        },
        {
          "data": {
            "text/plain": [
              "1.552503674445848"
            ]
          },
          "execution_count": 13,
          "metadata": {},
          "output_type": "execute_result"
        }
      ],
      "source": [
        "from surprise import SVD, Dataset, Reader\n",
        "from surprise.model_selection import train_test_split\n",
        "from surprise import accuracy\n",
        "\n",
        "# Prepare Surprise dataset\n",
        "reader = Reader(rating_scale=(1, 10))\n",
        "data = Dataset.load_from_df(ratings[['User-ID', 'ISBN', 'Book-Rating']], reader)\n",
        "\n",
        "# Split dataset\n",
        "trainset, testset = train_test_split(data, test_size=0.2, random_state=42)\n",
        "\n",
        "# Train SVD model\n",
        "svd = SVD()\n",
        "svd.fit(trainset)\n",
        "\n",
        "# Predict and evaluate\n",
        "predictions = svd.test(testset)\n",
        "print(\"SVD RMSE:\")\n",
        "accuracy.rmse(predictions)\n"
      ]
    },
    {
      "cell_type": "markdown",
      "metadata": {
        "id": "j1lXGE6z2Jrw"
      },
      "source": [
        "\n",
        "\n",
        "---\n",
        "\n",
        "# **🧠 Step 7: Content-Based Filtering (TF-IDF on Titles)**"
      ]
    },
    {
      "cell_type": "markdown",
      "metadata": {
        "id": "8fad4700"
      },
      "source": [
        "This recommender identifies books with similar titles and authors based on their textual content. The model leverages TF-IDF vectorization to capture keyword semantics and cosine similarity for measuring proximity in feature space."
      ]
    },
    {
      "cell_type": "code",
      "execution_count": null,
      "metadata": {
        "colab": {
          "base_uri": "https://localhost:8080/"
        },
        "id": "2SmFZqos2LWj",
        "outputId": "0e9badc8-0b9d-4b78-f309-d13e6f5ea02a"
      },
      "outputs": [
        {
          "name": "stdout",
          "output_type": "stream",
          "text": [
            "                                               Book-Title    Book-Author\n",
            "2735       Harry Potter and the Sorcerer's Stone (Book 1)  J. K. Rowling\n",
            "2088    Harry Potter and the Sorcerer's Stone (Harry P...  J. K. Rowling\n",
            "187636  Harry Potter and the Sorcerer's Stone (Harry P...  J. K. Rowling\n",
            "48513   Harry Potter and the Sorcerer's Stone (Book 1,...  J. K. Rowling\n",
            "66110   Harry Potter and the Sorcerer's Stone (Book 1,...  J. K. Rowling\n",
            "26498   Harry Potter and the Sorcerer's Stone (Book 1 ...  J. K. Rowling\n",
            "163671  Harry Potter and the Sorcerer's Stone (Urdu Ed...  J. K. Rowling\n",
            "209861  Harry Potter and the Sorcerer's Stone: A Delux...  J. K. Rowling\n",
            "179554           Harry Potter and the Philosopher's Stone   J.K. Rowling\n",
            "147046             Harry Potter and the  Sorcerer's Stone  Mary Grandpre\n"
          ]
        }
      ],
      "source": [
        "from sklearn.feature_extraction.text import TfidfVectorizer\n",
        "from sklearn.neighbors import NearestNeighbors\n",
        "import pandas as pd\n",
        "\n",
        "# --- Step 1: Clean and prepare the data ---\n",
        "# Drop duplicate titles\n",
        "books = books.drop_duplicates(subset='Book-Title', keep='first').reset_index(drop=True)\n",
        "\n",
        "# Fill NaNs\n",
        "books['Book-Title'] = books['Book-Title'].astype(str).str.strip()\n",
        "books['Book-Author'] = books['Book-Author'].astype(str).fillna('').str.strip()\n",
        "\n",
        "# Combine title and author into one field\n",
        "books['combined'] = books['Book-Title'] + \" \" + books['Book-Author']\n",
        "\n",
        "# --- Step 2: TF-IDF vectorization ---\n",
        "tfidf = TfidfVectorizer(stop_words='english')\n",
        "tfidf_matrix = tfidf.fit_transform(books['combined'])\n",
        "\n",
        "# --- Step 3: Fit Nearest Neighbors model ---\n",
        "nn_model = NearestNeighbors(metric='cosine', algorithm='brute')\n",
        "nn_model.fit(tfidf_matrix)\n",
        "\n",
        "# --- Step 4: Build title index mapping ---\n",
        "indices = pd.Series(books.index, index=books['Book-Title']).drop_duplicates()\n",
        "\n",
        "# --- Step 5: Recommendation function ---\n",
        "def get_recommendations(title, k=10):\n",
        "    title = title.strip()\n",
        "    if title not in indices:\n",
        "        return f\"❌ Title not found: '{title}'\"\n",
        "\n",
        "    idx = indices[title]\n",
        "    tfidf_vector = tfidf_matrix[idx]\n",
        "    distances, neighbors = nn_model.kneighbors(tfidf_vector, n_neighbors=k+1)\n",
        "\n",
        "    # Get top K similar books excluding the input\n",
        "    recommended_idx = neighbors.flatten()[1:]\n",
        "    recommendations = books[['Book-Title', 'Book-Author']].iloc[recommended_idx]\n",
        "\n",
        "    # Drop duplicates in case of variations\n",
        "    return recommendations.drop_duplicates(subset='Book-Title').head(k)\n",
        "\n",
        "# --- Step 6: Test the recommender with a valid title ---\n",
        "print(get_recommendations(\"Harry Potter and the Sorcerer's Stone\"))\n"
      ]
    },
    {
      "cell_type": "markdown",
      "metadata": {
        "id": "Q7k5PiM02O82"
      },
      "source": [
        "\n",
        "\n",
        "---\n",
        "\n",
        "# **🔗 Step 8: Hybrid Recommender (SVD + Content-Based)**"
      ]
    },
    {
      "cell_type": "markdown",
      "metadata": {
        "id": "1a198aeb"
      },
      "source": [
        "This function generates personalized book recommendations by combining:\n",
        "\n",
        "*  **`SVD collaborative filtering:`** Captures latent user–item interactions.\n",
        "\n",
        "*  **`TF-IDF + kNN similarity:`** Detects books similar in title/author content.\n",
        "\n",
        "Each candidate book receives a **weighted score** combining predicted preference (SVD) and semantic proximity (TF-IDF).\n",
        "\n"
      ]
    },
    {
      "cell_type": "code",
      "execution_count": null,
      "metadata": {
        "id": "9Vj2FABo2Qw7"
      },
      "outputs": [],
      "source": [
        "def hybrid_recommendation(user_id, title, svd_model, nn_model, tfidf_matrix, books_df, top_n=5):\n",
        "    # Ensure title exists\n",
        "    if title not in indices:\n",
        "        return f\"❌ Title not found: '{title}'\"\n",
        "\n",
        "    idx = indices[title]\n",
        "    tfidf_vector = tfidf_matrix[idx]\n",
        "\n",
        "    # Get similar books\n",
        "    distances, neighbors = nn_model.kneighbors(tfidf_vector, n_neighbors=top_n + 1)\n",
        "    neighbor_indices = neighbors.flatten()[1:]  # exclude itself\n",
        "\n",
        "    hybrid_scores = []\n",
        "    for i in neighbor_indices:\n",
        "        book_id = books_df.iloc[i]['ISBN']\n",
        "        try:\n",
        "            svd_score = svd_model.predict(user_id, book_id).est\n",
        "            content_score = 1 - distances[0][list(neighbor_indices).index(i)]  # convert distance to similarity\n",
        "            final_score = 0.7 * svd_score + 0.3 * content_score\n",
        "            hybrid_scores.append((book_id, final_score))\n",
        "        except:\n",
        "            continue\n",
        "\n",
        "    # Sort and return\n",
        "    top_books = sorted(hybrid_scores, key=lambda x: x[1], reverse=True)[:top_n]\n",
        "    book_ids = [book[0] for book in top_books]\n",
        "    return books_df[books_df['ISBN'].isin(book_ids)][['Book-Title', 'Book-Author']]\n"
      ]
    },
    {
      "cell_type": "markdown",
      "metadata": {
        "id": "77dc0395"
      },
      "source": [
        "### ⚙️ Code Execution\n",
        "This block performs an intermediate step in the pipeline."
      ]
    },
    {
      "cell_type": "code",
      "execution_count": null,
      "metadata": {
        "colab": {
          "base_uri": "https://localhost:8080/"
        },
        "id": "gOv-P_QX8Nm-",
        "outputId": "87d44ec3-73e2-40fa-e110-13666acbe236"
      },
      "outputs": [
        {
          "name": "stdout",
          "output_type": "stream",
          "text": [
            "                                               Book-Title    Book-Author\n",
            "2088    Harry Potter and the Sorcerer's Stone (Harry P...  J. K. Rowling\n",
            "2735       Harry Potter and the Sorcerer's Stone (Book 1)  J. K. Rowling\n",
            "48513   Harry Potter and the Sorcerer's Stone (Book 1,...  J. K. Rowling\n",
            "66110   Harry Potter and the Sorcerer's Stone (Book 1,...  J. K. Rowling\n",
            "187636  Harry Potter and the Sorcerer's Stone (Harry P...  J. K. Rowling\n"
          ]
        }
      ],
      "source": [
        "print(hybrid_recommendation(\n",
        "    user_id=276729,\n",
        "    title=\"Harry Potter and the Sorcerer's Stone\",\n",
        "    svd_model=svd,\n",
        "    nn_model=nn_model,\n",
        "    tfidf_matrix=tfidf_matrix,\n",
        "    books_df=books\n",
        "))\n"
      ]
    },
    {
      "cell_type": "markdown",
      "metadata": {
        "id": "gHzSN0fw2VcH"
      },
      "source": [
        "\n",
        "\n",
        "---\n",
        "\n",
        "# 📏 Step 9: Evaluation and **Comparison**"
      ]
    },
    {
      "cell_type": "markdown",
      "metadata": {
        "id": "26485bec"
      },
      "source": [
        "This section `evaluates` the `collaborative filtering model (SVD)` using `k-fold cross-validation` on rating prediction accuracy metrics. It provides insight into how well the model generalizes to unseen user-item interactions."
      ]
    },
    {
      "cell_type": "code",
      "execution_count": null,
      "metadata": {
        "colab": {
          "base_uri": "https://localhost:8080/"
        },
        "id": "AotitRch2YIX",
        "outputId": "61da895a-3984-495e-8b7b-f0406fb78e1a"
      },
      "outputs": [
        {
          "name": "stdout",
          "output_type": "stream",
          "text": [
            "SVD Cross-Validation:\n",
            "Evaluating RMSE, MAE of algorithm SVD on 3 split(s).\n",
            "\n",
            "                  Fold 1  Fold 2  Fold 3  Mean    Std     \n",
            "RMSE (testset)    1.5782  1.5623  1.5642  1.5682  0.0071  \n",
            "MAE (testset)     1.2117  1.2052  1.2044  1.2071  0.0033  \n",
            "Fit time          1.56    1.58    1.54    1.56    0.02    \n",
            "Test time         0.52    0.23    0.23    0.33    0.14    \n"
          ]
        },
        {
          "data": {
            "text/plain": [
              "{'test_rmse': array([1.57816123, 1.56231151, 1.56424081]),\n",
              " 'test_mae': array([1.21169475, 1.20519976, 1.20440143]),\n",
              " 'fit_time': (1.564561128616333, 1.5816521644592285, 1.5422272682189941),\n",
              " 'test_time': (0.5241661071777344, 0.23094797134399414, 0.22601556777954102)}"
            ]
          },
          "execution_count": 19,
          "metadata": {},
          "output_type": "execute_result"
        }
      ],
      "source": [
        "from surprise.model_selection import cross_validate\n",
        "\n",
        "# SVD cross-validation\n",
        "print(\"SVD Cross-Validation:\")\n",
        "cross_validate(SVD(), data, measures=['RMSE', 'MAE'], cv=3, verbose=True)\n",
        "\n",
        "# For user- and item-based filtering, use hit-rate or precision@k (not supported directly here)\n",
        "# For content-based and hybrid, manual evaluation with user feedback is typical\n"
      ]
    },
    {
      "cell_type": "markdown",
      "source": [
        "* **Low standard deviation (RMSE: 0.0071, MAE: 0.0033)** shows that model performance is stable across folds.\n",
        "\n",
        "* **Fit time (~1.56s)** is fast, indicating that the model is lightweight and scalable for medium-sized datasets.\n",
        "\n",
        "* **Test time variability (0.52s vs 0.23s)** may stem from uneven fold sizes or system resource fluctuations during evaluation."
      ],
      "metadata": {
        "id": "DI7JDBvCL84r"
      }
    },
    {
      "cell_type": "markdown",
      "metadata": {
        "id": "7wxY0qb_2eYG"
      },
      "source": [
        "\n",
        "\n",
        "---\n",
        "# **✅ Conclusion**\n",
        "You now have a complete recommendation engine pipeline:\n",
        "\n",
        "*   ✅ Clean data and parsed it correctly\n",
        "*   ✅ Explored user and book activity\n",
        "*   ✅ Implemented 5 recommendation models\n",
        "*   ✅ Evaluated model performance\n",
        "\n",
        "\n",
        "\n",
        "\n",
        "\n",
        "\n",
        "\n",
        "\n",
        "\n",
        "\n",
        "\n",
        "\n"
      ]
    }
  ],
  "metadata": {
    "colab": {
      "provenance": [],
      "include_colab_link": true
    },
    "kernelspec": {
      "display_name": "Python 3",
      "name": "python3"
    },
    "language_info": {
      "name": "python"
    }
  },
  "nbformat": 4,
  "nbformat_minor": 0
}